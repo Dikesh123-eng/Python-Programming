{
  "nbformat": 4,
  "nbformat_minor": 0,
  "metadata": {
    "colab": {
      "provenance": [],
      "authorship_tag": "ABX9TyPS3EZl6SIgSWkLyUgdHSIH",
      "include_colab_link": true
    },
    "kernelspec": {
      "name": "python3",
      "display_name": "Python 3"
    },
    "language_info": {
      "name": "python"
    }
  },
  "cells": [
    {
      "cell_type": "markdown",
      "metadata": {
        "id": "view-in-github",
        "colab_type": "text"
      },
      "source": [
        "<a href=\"https://colab.research.google.com/github/Dikesh123-eng/Python-Programming/blob/main/day6.ipynb\" target=\"_parent\"><img src=\"https://colab.research.google.com/assets/colab-badge.svg\" alt=\"Open In Colab\"/></a>"
      ]
    },
    {
      "cell_type": "code",
      "execution_count": 1,
      "metadata": {
        "colab": {
          "base_uri": "https://localhost:8080/"
        },
        "id": "oyub5o_keaUE",
        "outputId": "b95d1639-7b46-421c-9b22-ab4d1fdcf773"
      },
      "outputs": [
        {
          "output_type": "stream",
          "name": "stdout",
          "text": [
            "[1 2 3 4 5 6 7 8 9]\n"
          ]
        }
      ],
      "source": [
        "#creating 1D array\n",
        "import numpy as np\n",
        "arr=np.arange(1,10)\n",
        "print(arr)\n"
      ]
    },
    {
      "cell_type": "code",
      "source": [
        "a = [2, 4, 8, 3]\n",
        "b=[]\n",
        "\n",
        "for i in a:\n",
        "    b=(arr[i]*3)\n",
        "    print(b)\n"
      ],
      "metadata": {
        "colab": {
          "base_uri": "https://localhost:8080/"
        },
        "id": "jQ6KK5gJfTlL",
        "outputId": "9ef6af0f-816e-4cba-d049-eed20c098116"
      },
      "execution_count": 12,
      "outputs": [
        {
          "output_type": "stream",
          "name": "stdout",
          "text": [
            "9\n",
            "15\n",
            "27\n",
            "12\n"
          ]
        }
      ]
    },
    {
      "cell_type": "code",
      "source": [
        "#Adding Two array\n",
        "import numpy as np\n",
        "arr=np.arange(1,10)\n",
        "arr2=np.arange(1,10)\n",
        "print(arr+arr2)"
      ],
      "metadata": {
        "colab": {
          "base_uri": "https://localhost:8080/"
        },
        "id": "tAKfmAs1hIxJ",
        "outputId": "e32a2c98-12ce-4b8f-f1aa-43dab9812ebb"
      },
      "execution_count": 13,
      "outputs": [
        {
          "output_type": "stream",
          "name": "stdout",
          "text": [
            "[ 2  4  6  8 10 12 14 16 18]\n"
          ]
        }
      ]
    },
    {
      "cell_type": "code",
      "source": [
        "import numpy as np\n",
        "arr=np.arange(1,10)\n",
        "arr2=np.arange(1,10)\n",
        "#max values\n",
        "print(\" maxium no is:\",np.max(arr))\n",
        "#min values\n",
        "print(\" minium no is:\",np.min(arr))\n",
        "#product values\n",
        "print(\" productis:\",np.prod(arr))\n",
        "#sum\n",
        "print(\" sum is:\",np.sum(arr))\n",
        "#min values in first axies\n",
        "print(\" minium no in first axies:\",np.min(arr,axis=0))\n",
        "#find maximum values in first axies\n",
        "print(\" maxium no in first axis is:\",np.max(arr,axis=0))\n",
        "# find mean\n",
        "print(\"mean is :\",np.mean(arr))\n",
        "# find median\n",
        "print(\"meadian is :\",np.median(arr))\n",
        "# for random value\n",
        "a_random=np.random.randint(11,100,24)\n",
        "print(a_random)\n",
        "print()\n",
        "#rehape this value\n",
        "a_random=np.random.randint(11,100,24).reshape(6,4)\n",
        "\n",
        "print(a_random)\n",
        "\n",
        "\n",
        "\n",
        "\n"
      ],
      "metadata": {
        "colab": {
          "base_uri": "https://localhost:8080/"
        },
        "id": "lDS2ld3ihquz",
        "outputId": "9bb8ea06-064d-4bf0-9dcc-954270cb049a"
      },
      "execution_count": 27,
      "outputs": [
        {
          "output_type": "stream",
          "name": "stdout",
          "text": [
            " maxium no is: 9\n",
            " minium no is: 1\n",
            " productis: 362880\n",
            " sum is: 45\n",
            " minium no in first axies: 1\n",
            " maxium no in first axis is: 9\n",
            "mean is : 5.0\n",
            "meadian is : 5.0\n",
            "[39 89 37 82 80 89 23 95 14 92 48 82 63 85 18 80 50 26 35 30 54 57 39 20]\n",
            "\n",
            "[[91 89 12 93]\n",
            " [83 79 47 70]\n",
            " [41 84 70 71]\n",
            " [13 73 12 71]\n",
            " [17 76 91 41]\n",
            " [29 23 75 63]]\n"
          ]
        }
      ]
    },
    {
      "cell_type": "code",
      "source": [
        "#pandas\n",
        "#creating pandas\n",
        "import pandas as dikesh\n",
        "a = [1,2,3,\"hello\"]\n",
        "\n",
        "list = dikesh.Series(a)\n",
        "\n",
        "print(list)\n",
        "print(type(list))\n",
        "\n"
      ],
      "metadata": {
        "colab": {
          "base_uri": "https://localhost:8080/"
        },
        "id": "LHq9dyfpmxmi",
        "outputId": "3905a225-e116-49ea-b514-e9ac8a227061"
      },
      "execution_count": 31,
      "outputs": [
        {
          "output_type": "stream",
          "name": "stdout",
          "text": [
            "0        1\n",
            "1        2\n",
            "2        3\n",
            "3    hello\n",
            "dtype: object\n",
            "<class 'pandas.core.series.Series'>\n",
            "0        1\n",
            "1        2\n",
            "2        3\n",
            "3    hello\n",
            "dtype: object\n",
            "<class 'pandas.core.series.Series'>\n"
          ]
        }
      ]
    },
    {
      "cell_type": "code",
      "source": [
        "#pandas\n",
        "#creating pandas\n",
        "import pandas as dikesh\n",
        "devices={0:\"laptop\",1.:\"camera\",3:\"phone\",4:\"printer\"}\n",
        "data= dikesh.Series(devices)\n",
        "print(data)\n",
        "\n",
        "\n",
        "\n",
        "\n"
      ],
      "metadata": {
        "colab": {
          "base_uri": "https://localhost:8080/"
        },
        "id": "adacrhfXtqpc",
        "outputId": "e9302cb8-6bc6-4db7-f549-ff8565e7e7bf"
      },
      "execution_count": 34,
      "outputs": [
        {
          "output_type": "stream",
          "name": "stdout",
          "text": [
            "0.0     laptop\n",
            "1.0     camera\n",
            "3.0      phone\n",
            "4.0    printer\n",
            "dtype: object\n"
          ]
        }
      ]
    },
    {
      "cell_type": "code",
      "source": [
        "#\n",
        "import pandas as pd\n",
        "devices=[\"laptop\",\" camera\",\" phone\",\" printer\"]\n",
        "price=[350000,550000,450000,670000]\n",
        "data=pd.Series(price,index=devices)\n",
        "print(data)"
      ],
      "metadata": {
        "colab": {
          "base_uri": "https://localhost:8080/"
        },
        "id": "LdS41LZzvdXx",
        "outputId": "feffdb9c-18fb-4e6c-f82f-fc76c55f4ded"
      },
      "execution_count": 36,
      "outputs": [
        {
          "output_type": "stream",
          "name": "stdout",
          "text": [
            "laptop      350000\n",
            " camera     550000\n",
            " phone      450000\n",
            " printer    670000\n",
            "dtype: int64\n"
          ]
        }
      ]
    },
    {
      "cell_type": "code",
      "source": [
        "import pandas as pd\n",
        "data={\"computer\":\"Rs:35000\",\"camera\":\"Rs:5550000\",\" phone\":\"Rs560000\"}\n",
        "data1=pd.Series(data)\n",
        "print(data1)\n"
      ],
      "metadata": {
        "colab": {
          "base_uri": "https://localhost:8080/"
        },
        "id": "9Gga8saEwwK3",
        "outputId": "816df9d3-77e4-4050-bc41-1a207580beba"
      },
      "execution_count": 39,
      "outputs": [
        {
          "output_type": "stream",
          "name": "stdout",
          "text": [
            "computer      Rs:35000\n",
            "camera      Rs:5550000\n",
            " phone        Rs560000\n",
            "dtype: object\n"
          ]
        }
      ]
    },
    {
      "cell_type": "code",
      "source": [
        "#define name series\n",
        "import pandas as pd\n",
        "data={\"computer\":\"Rs:35000\",\"camera\":\"Rs:5550000\",\" phone\":\"Rs560000\"}\n",
        "data1=pd.Series(data)\n",
        "print(data1)\n",
        "Data_series=pd.Series(data1,name=\" Apana Dukan\")\n",
        "Data_series\n"
      ],
      "metadata": {
        "colab": {
          "base_uri": "https://localhost:8080/",
          "height": 247
        },
        "id": "BtST22Hyx240",
        "outputId": "21dde748-a9dc-4028-ec9d-a95af320f18c"
      },
      "execution_count": 42,
      "outputs": [
        {
          "output_type": "stream",
          "name": "stdout",
          "text": [
            "computer      Rs:35000\n",
            "camera      Rs:5550000\n",
            " phone        Rs560000\n",
            "dtype: object\n"
          ]
        },
        {
          "output_type": "execute_result",
          "data": {
            "text/plain": [
              "computer      Rs:35000\n",
              "camera      Rs:5550000\n",
              " phone        Rs560000\n",
              "Name:  Apana Dukan, dtype: object"
            ],
            "text/html": [
              "<div>\n",
              "<style scoped>\n",
              "    .dataframe tbody tr th:only-of-type {\n",
              "        vertical-align: middle;\n",
              "    }\n",
              "\n",
              "    .dataframe tbody tr th {\n",
              "        vertical-align: top;\n",
              "    }\n",
              "\n",
              "    .dataframe thead th {\n",
              "        text-align: right;\n",
              "    }\n",
              "</style>\n",
              "<table border=\"1\" class=\"dataframe\">\n",
              "  <thead>\n",
              "    <tr style=\"text-align: right;\">\n",
              "      <th></th>\n",
              "      <th>Apana Dukan</th>\n",
              "    </tr>\n",
              "  </thead>\n",
              "  <tbody>\n",
              "    <tr>\n",
              "      <th>computer</th>\n",
              "      <td>Rs:35000</td>\n",
              "    </tr>\n",
              "    <tr>\n",
              "      <th>camera</th>\n",
              "      <td>Rs:5550000</td>\n",
              "    </tr>\n",
              "    <tr>\n",
              "      <th>phone</th>\n",
              "      <td>Rs560000</td>\n",
              "    </tr>\n",
              "  </tbody>\n",
              "</table>\n",
              "</div><br><label><b>dtype:</b> object</label>"
            ]
          },
          "metadata": {},
          "execution_count": 42
        }
      ]
    },
    {
      "cell_type": "code",
      "source": [
        "data={\"computer\":\"Rs:35000\",\"camera\":\"Rs:5550000\",\" phone\":\"Rs560000\"}\n",
        "data1=pd.Series(data)\n",
        "print(data1)\n",
        "Data_series=pd.Series(data1,name=\" Apana Dukan\")\n",
        "print(\" Size is:\",Data_series.size)\n"
      ],
      "metadata": {
        "colab": {
          "base_uri": "https://localhost:8080/"
        },
        "id": "-YypOXLGy0Q4",
        "outputId": "9693cac2-43ca-44b4-f20f-984f518ba7c2"
      },
      "execution_count": 46,
      "outputs": [
        {
          "output_type": "stream",
          "name": "stdout",
          "text": [
            "computer      Rs:35000\n",
            "camera      Rs:5550000\n",
            " phone        Rs560000\n",
            "dtype: object\n",
            " Size is: 3\n"
          ]
        }
      ]
    },
    {
      "cell_type": "code",
      "source": [
        "#name of data series\n",
        "data={\"computer\":\"Rs:35000\",\"camera\":\"Rs:5550000\",\" phone\":\"Rs560000\"}\n",
        "data1=pd.Series(data)\n",
        "print(data1)\n",
        "Data_series=pd.Series(data1,name=\" Apana Dukan\")\n",
        "print(\" Size is:\",Data_series.name)\n",
        "\n"
      ],
      "metadata": {
        "id": "zbSCgaKbzXP1"
      },
      "execution_count": null,
      "outputs": []
    },
    {
      "cell_type": "code",
      "source": [
        "#upload  csv file\n",
        "import pandas as pd\n",
        "\n",
        "data=pd.read_csv('1.csv',encoding=\"ISO-8859-1\")\n",
        "print(data)\n"
      ],
      "metadata": {
        "colab": {
          "base_uri": "https://localhost:8080/"
        },
        "id": "gNn-DV1I3ylc",
        "outputId": "71d777d4-d90b-429e-cb09-491c33332edd"
      },
      "execution_count": 53,
      "outputs": [
        {
          "output_type": "stream",
          "name": "stdout",
          "text": [
            "                                 description  \\\n",
            "0                 Total number of businesses   \n",
            "1                 Total number of businesses   \n",
            "2                 Total number of businesses   \n",
            "3                 Total number of businesses   \n",
            "4                 Total number of businesses   \n",
            "...                                      ...   \n",
            "11134  Contact with Callaghan Innovation: No   \n",
            "11135  Contact with Callaghan Innovation: No   \n",
            "11136  Contact with Callaghan Innovation: No   \n",
            "11137  Contact with Callaghan Innovation: No   \n",
            "11138  Contact with Callaghan Innovation: No   \n",
            "\n",
            "                               industry  level             size line_code  \\\n",
            "0                                 total      0   619 employees       NaN   \n",
            "1                                 total      0  2049 employees       NaN   \n",
            "2                                 total      0  5099 employees       NaN   \n",
            "3                                 total      0   100+ employees       NaN   \n",
            "4      Agriculture, forestry, & fishing      1            total       NaN   \n",
            "...                                 ...    ...              ...       ...   \n",
            "11134              Education & training      1            total  B2300.03   \n",
            "11135   Health care & social assistance      1            total  B2300.03   \n",
            "11136        Arts & recreation services      1            total  B2300.03   \n",
            "11137                    Other services      1            total  B2300.03   \n",
            "11138                             total      0            total  B2300.03   \n",
            "\n",
            "         value status                  Unit                  Footnotes  \n",
            "0      35562.0    NaN  Number of businesses  1 and 2 and 3 and 4 and 6  \n",
            "1       8796.0    NaN  Number of businesses  1 and 2 and 3 and 4 and 6  \n",
            "2       2529.0    NaN  Number of businesses  1 and 2 and 3 and 4 and 6  \n",
            "3       2100.0    NaN  Number of businesses  1 and 2 and 3 and 4 and 6  \n",
            "4       3756.0    NaN  Number of businesses        1 and 2 and 3 and 6  \n",
            "...        ...    ...                   ...                        ...  \n",
            "11134   1119.0    NaN  Number of businesses        1 and 2 and 3 and 6  \n",
            "11135   2922.0    NaN  Number of businesses        1 and 2 and 3 and 6  \n",
            "11136    516.0    NaN  Number of businesses        1 and 2 and 3 and 6  \n",
            "11137   1341.0    NaN  Number of businesses        1 and 2 and 3 and 6  \n",
            "11138  46995.0    NaN  Number of businesses        1 and 2 and 3 and 6  \n",
            "\n",
            "[11139 rows x 9 columns]\n"
          ]
        }
      ]
    }
  ]
}