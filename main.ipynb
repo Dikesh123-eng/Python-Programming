{
  "nbformat": 4,
  "nbformat_minor": 0,
  "metadata": {
    "colab": {
      "provenance": [],
      "authorship_tag": "ABX9TyMNxuBV95UX2snJHaMARw9W",
      "include_colab_link": true
    },
    "kernelspec": {
      "name": "python3",
      "display_name": "Python 3"
    },
    "language_info": {
      "name": "python"
    }
  },
  "cells": [
    {
      "cell_type": "markdown",
      "metadata": {
        "id": "view-in-github",
        "colab_type": "text"
      },
      "source": [
        "<a href=\"https://colab.research.google.com/github/Dikesh123-eng/Python-Programming/blob/main/main.ipynb\" target=\"_parent\"><img src=\"https://colab.research.google.com/assets/colab-badge.svg\" alt=\"Open In Colab\"/></a>"
      ]
    },
    {
      "cell_type": "code",
      "execution_count": 5,
      "metadata": {
        "colab": {
          "base_uri": "https://localhost:8080/"
        },
        "id": "nEFr_DHJKG70",
        "outputId": "62aeae4e-a6f2-4ece-dac1-2457cc7887b0"
      },
      "outputs": [
        {
          "output_type": "stream",
          "name": "stdout",
          "text": [
            "[1, 2, 3, 4, 5, 3, 6, 7, 8, 9]\n"
          ]
        }
      ],
      "source": [
        "l1=[1,2,3,4,5]\n",
        "l2=[3,6,7,8,9]\n",
        "def listprint(l1,l2):\n",
        " return l1+l2\n",
        "print(listprint(l1,l2))"
      ]
    },
    {
      "cell_type": "code",
      "source": [
        "print(*range(1,10))\n"
      ],
      "metadata": {
        "colab": {
          "base_uri": "https://localhost:8080/"
        },
        "id": "lJvGp0QALnKs",
        "outputId": "e17f60a1-7494-4df9-896b-a2d757fa8c64"
      },
      "execution_count": 10,
      "outputs": [
        {
          "output_type": "stream",
          "name": "stdout",
          "text": [
            "1 2 3 4 5 6 7 8 9\n"
          ]
        }
      ]
    },
    {
      "cell_type": "code",
      "source": [
        "#print square 1 to 20\n",
        "list=[i*i for i in range(1,21)]\n",
        "print(list)"
      ],
      "metadata": {
        "colab": {
          "base_uri": "https://localhost:8080/"
        },
        "id": "NU84fFdDhuVA",
        "outputId": "ced5a175-52a7-497d-bdca-c04e7bdfc38a"
      },
      "execution_count": 29,
      "outputs": [
        {
          "output_type": "stream",
          "name": "stdout",
          "text": [
            "[1, 4, 9, 16, 25, 36, 49, 64, 81, 100, 121, 144, 169, 196, 225, 256, 289, 324, 361, 400]\n"
          ]
        }
      ]
    },
    {
      "cell_type": "code",
      "source": [
        " #printing even no\n",
        "list=[i  for  i in range(1,11) if i%2==0]\n",
        "print(list)"
      ],
      "metadata": {
        "colab": {
          "base_uri": "https://localhost:8080/"
        },
        "id": "GGfoigNUh9t1",
        "outputId": "9ff754ed-bbbd-4dfa-e5a7-c5b6bfe18020"
      },
      "execution_count": 30,
      "outputs": [
        {
          "output_type": "stream",
          "name": "stdout",
          "text": [
            "[2, 4, 6, 8, 10]\n"
          ]
        }
      ]
    },
    {
      "cell_type": "code",
      "source": [
        "#print th list taking user through input\n",
        "l1=[]\n",
        "for i in range(int(input(\"enter your size of list\"))):\n",
        "    num=int(input(\"enter your no here:\"))\n",
        "    l1.append(num)\n",
        "    print(num)"
      ],
      "metadata": {
        "colab": {
          "base_uri": "https://localhost:8080/"
        },
        "id": "C9AGhRrtiHV9",
        "outputId": "eeac2714-ae85-4b4e-cce8-7b3cc94d92b5"
      },
      "execution_count": 31,
      "outputs": [
        {
          "output_type": "stream",
          "name": "stdout",
          "text": [
            "enter your size of list5\n",
            "enter your no here:4\n",
            "4\n",
            "enter your no here:5\n",
            "5\n",
            "enter your no here:7\n",
            "7\n",
            "enter your no here:3\n",
            "3\n",
            "enter your no here:8\n",
            "8\n"
          ]
        }
      ]
    },
    {
      "cell_type": "code",
      "source": [
        "l1=[1,2,3,4,5]\n",
        "for i in l1:\n",
        "  print(i*i)"
      ],
      "metadata": {
        "colab": {
          "base_uri": "https://localhost:8080/"
        },
        "id": "O1PVeOpZM8Tm",
        "outputId": "1ad9c0e3-5b8c-4cfb-ce24-bcbc5657c021"
      },
      "execution_count": 12,
      "outputs": [
        {
          "output_type": "stream",
          "name": "stdout",
          "text": [
            "1\n",
            "4\n",
            "9\n",
            "16\n",
            "25\n"
          ]
        }
      ]
    },
    {
      "cell_type": "code",
      "source": [
        "\n"
      ],
      "metadata": {
        "id": "0FbZzvVTR4pP"
      },
      "execution_count": null,
      "outputs": []
    },
    {
      "cell_type": "code",
      "source": [
        "\n",
        "#cartesion prpducts\n",
        "l1=[1,2,3,4]\n",
        "l2=[5,6,7,8]\n",
        "x=[i*j for i in l1 for j in l2]\n",
        "print(\" product is\",x)\n",
        "\n",
        ""
      ],
      "metadata": {
        "colab": {
          "base_uri": "https://localhost:8080/"
        },
        "id": "HlniT3jjT1CO",
        "outputId": "8990d46d-54e6-4978-e253-9c33866600ff"
      },
      "execution_count": 27,
      "outputs": [
        {
          "output_type": "stream",
          "name": "stdout",
          "text": [
            " product is [5, 6, 7, 8, 10, 12, 14, 16, 15, 18, 21, 24, 20, 24, 28, 32]\n"
          ]
        }
      ]
    },
    {
      "cell_type": "code",
      "source": [
        "\n",
        ""
      ],
      "metadata": {
        "id": "qdpG6KFWiswz"
      },
      "execution_count": null,
      "outputs": []
    }
  ]
}