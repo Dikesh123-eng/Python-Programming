{
  "nbformat": 4,
  "nbformat_minor": 0,
  "metadata": {
    "colab": {
      "provenance": [],
      "authorship_tag": "ABX9TyM5QQbvsToXkMo3c56k+tVR",
      "include_colab_link": true
    },
    "kernelspec": {
      "name": "python3",
      "display_name": "Python 3"
    },
    "language_info": {
      "name": "python"
    }
  },
  "cells": [
    {
      "cell_type": "markdown",
      "metadata": {
        "id": "view-in-github",
        "colab_type": "text"
      },
      "source": [
        "<a href=\"https://colab.research.google.com/github/Dikesh123-eng/Python-Programming/blob/main/ihub_trainee.ipynb\" target=\"_parent\"><img src=\"https://colab.research.google.com/assets/colab-badge.svg\" alt=\"Open In Colab\"/></a>"
      ]
    },
    {
      "cell_type": "code",
      "execution_count": 5,
      "metadata": {
        "colab": {
          "base_uri": "https://localhost:8080/"
        },
        "id": "nEFr_DHJKG70",
        "outputId": "62aeae4e-a6f2-4ece-dac1-2457cc7887b0"
      },
      "outputs": [
        {
          "output_type": "stream",
          "name": "stdout",
          "text": [
            "[1, 2, 3, 4, 5, 3, 6, 7, 8, 9]\n"
          ]
        }
      ],
      "source": [
        "# combine two list\n",
        "l1=[1,2,3,4,5]\n",
        "l2=[3,6,7,8,9]\n",
        "def listprint(l1,l2):\n",
        " return l1+l2\n",
        "print(listprint(l1,l2))"
      ]
    },
    {
      "cell_type": "code",
      "source": [
        "print(*range(1,10))\n"
      ],
      "metadata": {
        "colab": {
          "base_uri": "https://localhost:8080/"
        },
        "id": "lJvGp0QALnKs",
        "outputId": "e17f60a1-7494-4df9-896b-a2d757fa8c64"
      },
      "execution_count": 10,
      "outputs": [
        {
          "output_type": "stream",
          "name": "stdout",
          "text": [
            "1 2 3 4 5 6 7 8 9\n"
          ]
        }
      ]
    },
    {
      "cell_type": "code",
      "source": [
        "#print square 1 to 20\n",
        "list=[i*i for i in range(1,21)]\n",
        "print(list)"
      ],
      "metadata": {
        "colab": {
          "base_uri": "https://localhost:8080/"
        },
        "id": "NU84fFdDhuVA",
        "outputId": "ced5a175-52a7-497d-bdca-c04e7bdfc38a"
      },
      "execution_count": 29,
      "outputs": [
        {
          "output_type": "stream",
          "name": "stdout",
          "text": [
            "[1, 4, 9, 16, 25, 36, 49, 64, 81, 100, 121, 144, 169, 196, 225, 256, 289, 324, 361, 400]\n"
          ]
        }
      ]
    },
    {
      "cell_type": "code",
      "source": [
        " #printing even no\n",
        "list=[i  for  i in range(1,11) if i%2==0]\n",
        "print(list)"
      ],
      "metadata": {
        "colab": {
          "base_uri": "https://localhost:8080/"
        },
        "id": "GGfoigNUh9t1",
        "outputId": "9ff754ed-bbbd-4dfa-e5a7-c5b6bfe18020"
      },
      "execution_count": 30,
      "outputs": [
        {
          "output_type": "stream",
          "name": "stdout",
          "text": [
            "[2, 4, 6, 8, 10]\n"
          ]
        }
      ]
    },
    {
      "cell_type": "code",
      "source": [
        "#print th list taking user through input\n",
        "l1=[]\n",
        "for i in range(int(input(\"enter your size of list\"))):\n",
        "    num=int(input(\"enter your no here:\"))\n",
        "    l1.append(num)\n",
        "    print(num)"
      ],
      "metadata": {
        "colab": {
          "base_uri": "https://localhost:8080/"
        },
        "id": "C9AGhRrtiHV9",
        "outputId": "eeac2714-ae85-4b4e-cce8-7b3cc94d92b5"
      },
      "execution_count": 31,
      "outputs": [
        {
          "output_type": "stream",
          "name": "stdout",
          "text": [
            "enter your size of list5\n",
            "enter your no here:4\n",
            "4\n",
            "enter your no here:5\n",
            "5\n",
            "enter your no here:7\n",
            "7\n",
            "enter your no here:3\n",
            "3\n",
            "enter your no here:8\n",
            "8\n"
          ]
        }
      ]
    },
    {
      "cell_type": "code",
      "source": [
        "l1=[1,2,3,4,5]\n",
        "for i in l1:\n",
        "  print(i*i)"
      ],
      "metadata": {
        "colab": {
          "base_uri": "https://localhost:8080/"
        },
        "id": "O1PVeOpZM8Tm",
        "outputId": "1ad9c0e3-5b8c-4cfb-ce24-bcbc5657c021"
      },
      "execution_count": 12,
      "outputs": [
        {
          "output_type": "stream",
          "name": "stdout",
          "text": [
            "1\n",
            "4\n",
            "9\n",
            "16\n",
            "25\n"
          ]
        }
      ]
    },
    {
      "cell_type": "code",
      "source": [
        "\n"
      ],
      "metadata": {
        "id": "0FbZzvVTR4pP"
      },
      "execution_count": null,
      "outputs": []
    },
    {
      "cell_type": "code",
      "source": [
        "\n",
        "#cartesion prpducts\n",
        "l1=[1,2,3,4]\n",
        "l2=[5,6,7,8]\n",
        "x=[i*j for i in l1 for j in l2]\n",
        "print(\" product is\",x)\n",
        "\n",
        ""
      ],
      "metadata": {
        "colab": {
          "base_uri": "https://localhost:8080/"
        },
        "id": "HlniT3jjT1CO",
        "outputId": "8990d46d-54e6-4978-e253-9c33866600ff"
      },
      "execution_count": 27,
      "outputs": [
        {
          "output_type": "stream",
          "name": "stdout",
          "text": [
            " product is [5, 6, 7, 8, 10, 12, 14, 16, 15, 18, 21, 24, 20, 24, 28, 32]\n"
          ]
        }
      ]
    },
    {
      "cell_type": "markdown",
      "source": [
        "#### NUMPY######\n",
        "-> Numpy is a python library\n",
        "-> it is a homogenious datatype\n",
        "->non- globlal\n",
        "-> faster than list\n",
        "-> It  has array called ndarray\n",
        "it is not posssible in numpy not possible size of in nd array ,if you try the orginal array will be deletd\n",
        "and the new array will be created\n",
        " # for numpy\n",
        " import numpy as np"
      ],
      "metadata": {
        "id": "0zmk4ELrkzaA"
      }
    },
    {
      "cell_type": "code",
      "source": [
        "import numpy as np\n",
        "#creating 1-D array\n",
        "\n",
        "l1=[1,3,5,6,7,8]\n",
        "print(type(l1))\n",
        "nd=np.array(l1)\n",
        "print(type(nd))\n",
        "print(nd)"
      ],
      "metadata": {
        "colab": {
          "base_uri": "https://localhost:8080/"
        },
        "id": "A3P3nqZbnDns",
        "outputId": "f944b129-1252-4da4-8ebb-27f8572e96a1"
      },
      "execution_count": 50,
      "outputs": [
        {
          "output_type": "stream",
          "name": "stdout",
          "text": [
            "<class 'list'>\n",
            "<class 'numpy.ndarray'>\n",
            "[1 3 5 6 7 8]\n"
          ]
        }
      ]
    },
    {
      "cell_type": "code",
      "source": [
        "import numpy as np\n",
        "#creating 2-D array\n",
        "l2=[[1,2,3],[2,7,8]]\n",
        "\n",
        "nd2=np.array(l2)\n",
        "print(type(nd))\n",
        "print(l2)"
      ],
      "metadata": {
        "colab": {
          "base_uri": "https://localhost:8080/"
        },
        "id": "DacEEEbBn3Wo",
        "outputId": "4fcd52d7-f524-4298-f7e9-6890fc0177cb"
      },
      "execution_count": 47,
      "outputs": [
        {
          "output_type": "stream",
          "name": "stdout",
          "text": [
            "<class 'numpy.ndarray'>\n",
            "[[1, 2, 3], [2, 7, 8]]\n"
          ]
        }
      ]
    },
    {
      "cell_type": "code",
      "source": [
        "#creating 3-D array\n",
        "import numpy as np\n",
        "l3=[[1,2,3],[4,6,7],[9,8,6]]\n",
        "nd3=np.array(l3)\n",
        "print(type(nd))\n",
        "print(nd3)\n"
      ],
      "metadata": {
        "colab": {
          "base_uri": "https://localhost:8080/"
        },
        "id": "jhdBGrbeodqY",
        "outputId": "5335ac7b-5061-45f4-f285-6666e4a2a975"
      },
      "execution_count": 54,
      "outputs": [
        {
          "output_type": "stream",
          "name": "stdout",
          "text": [
            "<class 'numpy.ndarray'>\n",
            "[[1 2 3]\n",
            " [4 6 7]\n",
            " [9 8 6]]\n"
          ]
        }
      ]
    },
    {
      "cell_type": "code",
      "source": [
        "#convert int to float\n",
        "import numpy as np\n",
        "l1=[1,3,4,5,6]\n",
        "np_typ=np.array(l1,dtype=float)\n",
        "print(np_typ)\n"
      ],
      "metadata": {
        "colab": {
          "base_uri": "https://localhost:8080/"
        },
        "id": "JD2O8kJ-sAnu",
        "outputId": "b6b9e590-3464-415e-824a-65abdbebddc6"
      },
      "execution_count": 55,
      "outputs": [
        {
          "output_type": "stream",
          "name": "stdout",
          "text": [
            "[1. 3. 4. 5. 6.]\n"
          ]
        }
      ]
    },
    {
      "cell_type": "code",
      "source": [
        "#convert int to bool\n",
        "import numpy as np#dikesh\n",
        "l1=[1,3,4,5,0]\n",
        "np_typ=np.array(l1,dtype=bool,)\n",
        "print(np_typ)"
      ],
      "metadata": {
        "colab": {
          "base_uri": "https://localhost:8080/"
        },
        "id": "uUQ6cRIysdqx",
        "outputId": "05489299-c4f1-44c5-b04b-0dedc0e2edd0"
      },
      "execution_count": 63,
      "outputs": [
        {
          "output_type": "stream",
          "name": "stdout",
          "text": [
            "[ True  True  True  True False]\n"
          ]
        }
      ]
    },
    {
      "cell_type": "code",
      "source": [
        "#arrange the no\n",
        "import numpy as np\n",
        "arr=np.arange(2,12)\n",
        "print(arr)\n"
      ],
      "metadata": {
        "colab": {
          "base_uri": "https://localhost:8080/"
        },
        "id": "1zdoCuQ-tQuP",
        "outputId": "d9f23f43-8fe5-4b95-bdd4-0aa8fa5f96c5"
      },
      "execution_count": 66,
      "outputs": [
        {
          "output_type": "stream",
          "name": "stdout",
          "text": [
            "[ 2  3  4  5  6  7  8  9 10 11]\n"
          ]
        }
      ]
    },
    {
      "cell_type": "code",
      "source": [],
      "metadata": {
        "id": "n7Unz5C1ulbS"
      },
      "execution_count": null,
      "outputs": []
    }
  ]
}